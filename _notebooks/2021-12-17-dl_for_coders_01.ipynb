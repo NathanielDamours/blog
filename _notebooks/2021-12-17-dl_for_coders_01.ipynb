{
 "cells": [
  {
   "cell_type": "markdown",
   "metadata": {},
   "source": [
    "# Deep Learning for Coders - Chapter 1 [Draft]\n",
    "> An even more top-down approach of the chapter\n",
    "\n",
    "- toc: true\n",
    "- branch: master\n",
    "- badges: true\n",
    "- comments: true\n",
    "- categories: [Deep Learning for Coders, Jupyter]\n",
    "- image: images/trained_model.png\n",
    "- author: Nathaniel D'Amours"
   ]
  },
  {
   "cell_type": "markdown",
   "metadata": {},
   "source": [
    "This post is highly inspired from *Deep Learning for Coders* {% cite howard2020deep %}."
   ]
  },
  {
   "cell_type": "markdown",
   "metadata": {},
   "source": [
    "## Deep Learning is for Everyone"
   ]
  },
  {
   "cell_type": "code",
   "execution_count": 5,
   "metadata": {},
   "outputs": [],
   "source": [
    "#hide\n",
    "from fastbook import *\n",
    "from pathlib import Path"
   ]
  },
  {
   "cell_type": "code",
   "execution_count": 6,
   "metadata": {},
   "outputs": [],
   "source": [
    "#hide\n",
    "def save_gv(filename, data, is_graph=False):\n",
    "    if not is_graph:\n",
    "        graph_data = gv(data)\n",
    "    else:\n",
    "        graph_data = data\n",
    "    my_graph = graphviz.Source(graph_data)\n",
    "    my_graph.render(filename, format='png', directory=\"my_icons/dl_for_coders_01/\", view=False)"
   ]
  },
  {
   "cell_type": "code",
   "execution_count": 7,
   "metadata": {},
   "outputs": [],
   "source": [
    "#hide\n",
    "data = \"\"\"\n",
    "digraph {\n",
    "    subgraph cluster_ai {\n",
    "        label=\"Artificial Intelligence\";\n",
    "        \"Your calculator\";\n",
    "        subgraph cluster_ml {\n",
    "            label=\"Machine Learning\";\n",
    "            \"Linear Regression\";\n",
    "            subgraph cluster_backend {\n",
    "                label=\"Neural network\";\n",
    "                \"Convolutional neural network\";\n",
    "            }\n",
    "        }\n",
    "    }\n",
    "}\n",
    "\"\"\"\n",
    "save_gv(\"ai_ml_nn\", data, is_graph=True)"
   ]
  },
  {
   "cell_type": "markdown",
   "metadata": {},
   "source": [
    "![](my_icons/dl_for_coders_01/ai_ml_nn.png \"Fig.0 - AI vs ML vs NN\")"
   ]
  },
  {
   "cell_type": "markdown",
   "metadata": {},
   "source": [
    "## What is Machine Learning ?"
   ]
  },
  {
   "cell_type": "markdown",
   "metadata": {},
   "source": [
    "### A Machine Learning Program"
   ]
  },
  {
   "cell_type": "markdown",
   "metadata": {},
   "source": [
    "As we learned earlier, machine learning is the science to write programs that learn. Therefore, machine learning could allow you to recognize dogs and cats without telling the program all the characteristics of each one (which is tricky) since the program can learn these. This learning is possible through this model training loop :"
   ]
  },
  {
   "cell_type": "code",
   "execution_count": 8,
   "metadata": {
    "scrolled": true
   },
   "outputs": [],
   "source": [
    "#hide\n",
    "data = '''ordering=in\n",
    "          Model[shape=box3d width=1 height=0.7]\n",
    "          Inputs [shape=none, width=0.5 height=0.7]\n",
    "          Inputs->Model->Predictions;\n",
    "          Predictions->Performance\n",
    "          Performance->Model[constraint=false label=updates]'''\n",
    "save_gv(\"training\", data)"
   ]
  },
  {
   "cell_type": "markdown",
   "metadata": {},
   "source": [
    "![](my_icons/dl_for_coders_01/training.png \"Fig.1 - The training loop\")"
   ]
  },
  {
   "cell_type": "markdown",
   "metadata": {},
   "source": [
    "Let's break down this figure :\n",
    "1. The model receives **inputs** which are the data (the images of dogs and cats).\n",
    "2. The model ouputs **predictions** which looks like : \"Dog\" or \"Cat\".\n",
    "3. The **performance** of the predictions is calculated.\n",
    "4. The **model** is updated according to the performance in order to improve itself."
   ]
  },
  {
   "cell_type": "markdown",
   "metadata": {},
   "source": [
    "### Architecture and Parameters"
   ]
  },
  {
   "cell_type": "code",
   "execution_count": 9,
   "metadata": {
    "scrolled": false
   },
   "outputs": [],
   "source": [
    "#hide\n",
    "data = '''ordering=in\n",
    "          Architecture[shape=box3d width=1 height=0.7]\n",
    "          # Inputs [shape=none,label=\"\" width=0.5 height=0.7]\n",
    "          Inputs->Architecture->Predictions; Parameters->Architecture; Predictions->Performance\n",
    "          Performance->Parameters[constraint=false label=updates]'''\n",
    "save_gv(\"training_arch_param\", data)"
   ]
  },
  {
   "cell_type": "markdown",
   "metadata": {},
   "source": [
    "![](my_icons/dl_for_coders_01/training_arch_param.png \"Fig.2 - Split the model into architecture and parameters\")"
   ]
  },
  {
   "cell_type": "markdown",
   "metadata": {},
   "source": [
    "You can notice that we split *Model* into *Architecture* and *Parameters*. The architecture is the functional form of the model and the parameters are some variables that defines how the architecture operates. For example, $y = ax + b$ is an architecture with the parameters $a$ and $b$ that change the behavior of the function."
   ]
  },
  {
   "cell_type": "markdown",
   "metadata": {},
   "source": [
    "### Labels and Loss"
   ]
  },
  {
   "cell_type": "code",
   "execution_count": 10,
   "metadata": {},
   "outputs": [],
   "source": [
    "#hide\n",
    "data = '''ordering=in\n",
    "          Model[shape=box3d width=1 height=0.7 label=Architecture]\n",
    "          Inputs->Model->Predictions; Parameters->Model;Labels->Loss; Predictions->Loss\n",
    "          Loss->Parameters[constraint=false label=updates]'''\n",
    "save_gv(\"training_labels_loss\", data)"
   ]
  },
  {
   "cell_type": "markdown",
   "metadata": {},
   "source": [
    "![](my_icons/dl_for_coders_01/training_labels_loss.png \"Fig.3 - Split the performance into labels and loss\")"
   ]
  },
  {
   "cell_type": "markdown",
   "metadata": {
    "scrolled": true
   },
   "source": [
    "We can see that now the *Performance* is split into *Labels* and *Loss*. The labels are the (ground) truth. For example, if an image is a dog the label of the image is *Dog*. Therefore, the labels and the predictions can be compared to determine the performance of the model. Indeed, if the prediction on an image is *Cat* and the label is *Dog*, you would know that the model did bad. The loss is this measure of performance thats compares the labels and the predictions so that we can updates the parameters to perform better."
   ]
  },
  {
   "cell_type": "markdown",
   "metadata": {},
   "source": [
    "### Trained Models"
   ]
  },
  {
   "cell_type": "code",
   "execution_count": 11,
   "metadata": {},
   "outputs": [],
   "source": [
    "#hide\n",
    "data = '''Model[shape=box3d width=1 height=0.7]\n",
    "          Inputs->Model->Predictions'''\n",
    "save_gv(\"trained_model\", data)"
   ]
  },
  {
   "cell_type": "markdown",
   "metadata": {},
   "source": [
    "![](my_icons/dl_for_coders_01/trained_model.png \"Fig.4 - A trained model\")"
   ]
  },
  {
   "cell_type": "markdown",
   "metadata": {},
   "source": [
    "Once a model is trained. You can treat it as a regular program."
   ]
  },
  {
   "cell_type": "markdown",
   "metadata": {},
   "source": [
    "### Regular Programming"
   ]
  },
  {
   "cell_type": "code",
   "execution_count": 12,
   "metadata": {},
   "outputs": [],
   "source": [
    "#hide\n",
    "data = '''Program[shape=box3d width=1 height=0.7]\n",
    "          Inputs->Program->Results'''\n",
    "save_gv(\"regular_program\", data)"
   ]
  },
  {
   "cell_type": "markdown",
   "metadata": {},
   "source": [
    "![](my_icons/dl_for_coders_01/regular_program.png \"Fig.5 - A regular program\")"
   ]
  },
  {
   "cell_type": "code",
   "execution_count": 13,
   "metadata": {},
   "outputs": [
    {
     "data": {
      "text/plain": [
       "5"
      ]
     },
     "execution_count": 13,
     "metadata": {},
     "output_type": "execute_result"
    }
   ],
   "source": [
    "def add(a, b):\n",
    "    return a + b\n",
    "\n",
    "add(2, 3)"
   ]
  },
  {
   "cell_type": "markdown",
   "metadata": {},
   "source": [
    "As you can see this program takes some inputs and outputs results. Indeed, the inputs are $2$ and $3$ and the result, $5$."
   ]
  },
  {
   "cell_type": "markdown",
   "metadata": {},
   "source": [
    "## What is Deep Neural Network ?"
   ]
  },
  {
   "cell_type": "markdown",
   "metadata": {},
   "source": [
    "As we learned earlier deep neural network is a kind of machine learning model and \"deep\" refers to having move than 1 hidden layer (1 input layer → 1+ hidden layer → 1 output layer). This model can solve any problems according to the [*universal approximation theorem*](https://en.wikipedia.org/wiki/Universal_approximation_theorem) by varying the parameters. Therefore, we need a general \"mecanism\" to modify these parameters for each problem. This \"mecanism\" already exists and it is called stochastic gradient descent (SGD)."
   ]
  },
  {
   "cell_type": "markdown",
   "metadata": {},
   "source": [
    "> Tip: SGD and deep neural networks sounds complex, but they aren't !"
   ]
  },
  {
   "cell_type": "markdown",
   "metadata": {},
   "source": [
    "## How Our Image Recognizer Works"
   ]
  },
  {
   "cell_type": "markdown",
   "metadata": {},
   "source": [
    "Let's break down the first lines of code of our image recognizer :"
   ]
  },
  {
   "cell_type": "code",
   "execution_count": 14,
   "metadata": {},
   "outputs": [],
   "source": [
    "from fastai.vision.all import *"
   ]
  },
  {
   "cell_type": "markdown",
   "metadata": {},
   "source": [
    "This allows us to use all the tools we will need to code a variety of computer vision models."
   ]
  },
  {
   "cell_type": "code",
   "execution_count": 15,
   "metadata": {},
   "outputs": [
    {
     "data": {
      "text/plain": [
       "Path('C:/Users/natha/.fastai/data/oxford-iiit-pet/images')"
      ]
     },
     "execution_count": 15,
     "metadata": {},
     "output_type": "execute_result"
    }
   ],
   "source": [
    "PATH = untar_data(URLs.PETS)/'images'\n",
    "PATH"
   ]
  },
  {
   "cell_type": "markdown",
   "metadata": {},
   "source": [
    "This line downloads a dataset from fast.ai datasets collection (if not previously downloaded), extracts it (if not previously extracted) and returns a Path object with the extracted location"
   ]
  },
  {
   "cell_type": "code",
   "execution_count": 16,
   "metadata": {},
   "outputs": [],
   "source": [
    "def is_cat(x):\n",
    "    return x[0].isupper()"
   ]
  },
  {
   "cell_type": "markdown",
   "metadata": {},
   "source": [
    "Here we define the function `is_cat` to get the label of an image. Indeed, the function returns `True` if the image contains a cat since the dataset's creators set cats's filenames with an upper case at the beginning."
   ]
  },
  {
   "cell_type": "code",
   "execution_count": 17,
   "metadata": {},
   "outputs": [
    {
     "name": "stdout",
     "output_type": "stream",
     "text": [
      "Due to IPython and Windows limitation, python multiprocessing isn't available now.\n",
      "So `number_workers` is changed to 0 to avoid getting stuck\n"
     ]
    }
   ],
   "source": [
    "#hide_output\n",
    "dls = ImageDataLoaders.from_name_func(path=PATH,\n",
    "                                      fnames=get_image_files(PATH),\n",
    "                                      valid_pct=0.2,\n",
    "                                      seed=42,\n",
    "                                      label_func=is_cat,\n",
    "                                      item_tfms=Resize(224))"
   ]
  },
  {
   "cell_type": "markdown",
   "metadata": {},
   "source": [
    "Our model needs to know the kind and the structure of the dataset it's working with. Therefore, we created a dataloader. Since we are using images, this is an `ImageDataLoaders`. Also, `from_name_func` is used, because we are using the name of the files to label our images.\n",
    "\n",
    "Let's explain the parameters :\n",
    "- `path` : where the data is stored\n",
    "- `fnames` : an object containing the Path objects of the images' filenames\n",
    "- `valid_pct` : the percentage of data hold out randomly in the validation set (we will talk later about this)\n",
    "- `seed` : aims to make your code reproductible by always generating the same validation set\n",
    "- `label_func` : the function use to get the label of the image\n",
    "- `item_tfms` : a transformation done to each item (in this case each item is resized to 224-pixel square)"
   ]
  },
  {
   "cell_type": "markdown",
   "metadata": {},
   "source": [
    "{% bibliography --cited %}"
   ]
  }
 ],
 "metadata": {
  "interpreter": {
   "hash": "f84e6c513c59ca62dd4188e281641d696cc3851154e12fdd779776f46eb6c727"
  },
  "kernelspec": {
   "display_name": "Python 3",
   "language": "python",
   "name": "python3"
  },
  "language_info": {
   "codemirror_mode": {
    "name": "ipython",
    "version": 3
   },
   "file_extension": ".py",
   "mimetype": "text/x-python",
   "name": "python",
   "nbconvert_exporter": "python",
   "pygments_lexer": "ipython3",
   "version": "3.8.8"
  },
  "latex_envs": {
   "LaTeX_envs_menu_present": true,
   "autoclose": false,
   "autocomplete": true,
   "bibliofile": "biblio.bib",
   "cite_by": "apalike",
   "current_citInitial": 1,
   "eqLabelWithNumbers": true,
   "eqNumInitial": 1,
   "hotkeys": {
    "equation": "Ctrl-E",
    "itemize": "Ctrl-I"
   },
   "labels_anchors": false,
   "latex_user_defs": false,
   "report_style_numbering": false,
   "user_envs_cfg": false
  },
  "toc": {
   "base_numbering": 1,
   "nav_menu": {},
   "number_sections": true,
   "sideBar": true,
   "skip_h1_title": false,
   "title_cell": "Table of Contents",
   "title_sidebar": "Contents",
   "toc_cell": true,
   "toc_position": {
    "height": "calc(100% - 180px)",
    "left": "10px",
    "top": "150px",
    "width": "165px"
   },
   "toc_section_display": true,
   "toc_window_display": false
  },
  "varInspector": {
   "cols": {
    "lenName": 16,
    "lenType": 16,
    "lenVar": 40
   },
   "kernels_config": {
    "python": {
     "delete_cmd_postfix": "",
     "delete_cmd_prefix": "del ",
     "library": "var_list.py",
     "varRefreshCmd": "print(var_dic_list())"
    },
    "r": {
     "delete_cmd_postfix": ") ",
     "delete_cmd_prefix": "rm(",
     "library": "var_list.r",
     "varRefreshCmd": "cat(var_dic_list()) "
    }
   },
   "types_to_exclude": [
    "module",
    "function",
    "builtin_function_or_method",
    "instance",
    "_Feature"
   ],
   "window_display": false
  }
 },
 "nbformat": 4,
 "nbformat_minor": 2
}
